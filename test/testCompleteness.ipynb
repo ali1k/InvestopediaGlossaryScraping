{
 "cells": [
  {
   "cell_type": "code",
   "execution_count": 11,
   "metadata": {},
   "outputs": [
    {
     "name": "stdout",
     "output_type": "stream",
     "text": [
      "['https://www.investopedia.com/terms/f/federalreservesystem.asp']\n"
     ]
    }
   ],
   "source": [
    "import os, json\n",
    "\n",
    "file1 = open('../FULL_URL_INDEX.txt', 'r')\n",
    "Lines = file1.readlines()\n",
    "list_all = []\n",
    "count = 0\n",
    "# Strips the newline character\n",
    "for line in Lines:\n",
    "    count += 1\n",
    "    list_all.append(line.strip())\n",
    "    #print(line.strip())\n",
    "\n",
    "list_all_unique = []\n",
    "[list_all_unique.append(x) for x in list_all if x not in list_all_unique]\n",
    "\n",
    "path_to_json = '../data/'\n",
    "json_files = [pos_json for pos_json in os.listdir(path_to_json) if pos_json.endswith('.json')]\n",
    "for link in json_files: \n",
    "    with open('../data/'+link) as f:\n",
    "        data = json.load(f)\n",
    "        #print (data['@id'])\n",
    "        if data['@id'] in list_all_unique:\n",
    "            list_all_unique.remove(data['@id'] )\n",
    "print(list_all_unique) # print items which are not scraped"
   ]
  },
  {
   "cell_type": "code",
   "execution_count": null,
   "metadata": {},
   "outputs": [],
   "source": []
  }
 ],
 "metadata": {
  "kernelspec": {
   "display_name": "Python 3",
   "language": "python",
   "name": "python3"
  },
  "language_info": {
   "codemirror_mode": {
    "name": "ipython",
    "version": 3
   },
   "file_extension": ".py",
   "mimetype": "text/x-python",
   "name": "python",
   "nbconvert_exporter": "python",
   "pygments_lexer": "ipython3",
   "version": "3.8.5"
  }
 },
 "nbformat": 4,
 "nbformat_minor": 4
}
