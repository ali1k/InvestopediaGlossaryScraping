{
 "cells": [
  {
   "cell_type": "code",
   "execution_count": 1,
   "metadata": {},
   "outputs": [],
   "source": [
    "import requests, random, logging, urllib.request\n",
    "from bs4 import BeautifulSoup\n",
    "from tqdm import tqdm"
   ]
  },
  {
   "cell_type": "code",
   "execution_count": 2,
   "metadata": {},
   "outputs": [],
   "source": [
    "logging.basicConfig(filename='app.log', filemode='w', format='%(name)s - %(levelname)s - %(message)s')"
   ]
  },
  {
   "cell_type": "code",
   "execution_count": 3,
   "metadata": {},
   "outputs": [],
   "source": [
    "url = 'https://www.investopedia.com/financial-term-dictionary-4769738'"
   ]
  },
  {
   "cell_type": "code",
   "execution_count": 4,
   "metadata": {},
   "outputs": [],
   "source": [
    "master_links = []\n",
    "\n",
    "page = urllib.request.urlopen(url).read().decode('utf8','ignore') \n",
    "soup = BeautifulSoup(page,\"lxml\")\n",
    "\n",
    "for link in soup.find_all('a',{'class': 'terms-bar__link mntl-text-link'},  href = True):\n",
    "\n",
    "    master_links.append(link.get('href'))"
   ]
  },
  {
   "cell_type": "code",
   "execution_count": 5,
   "metadata": {},
   "outputs": [],
   "source": [
    "master_links = master_links[0:27]"
   ]
  },
  {
   "cell_type": "code",
   "execution_count": 6,
   "metadata": {},
   "outputs": [],
   "source": [
    "with open('URL_INDEX_BY_ALPHA.txt', 'w') as f:\n",
    "    for item in master_links:\n",
    "        f.write(\"%s\\n\" % item)"
   ]
  },
  {
   "cell_type": "code",
   "execution_count": 7,
   "metadata": {},
   "outputs": [],
   "source": [
    "list_alpha = []\n",
    "\n",
    "for articleIdx in master_links:\n",
    "    \n",
    "    page = urllib.request.urlopen(articleIdx).read().decode('utf8','ignore') \n",
    "    soup = BeautifulSoup(page,\"lxml\")\n",
    "                         \n",
    "    for link in soup.find_all('a',{'class': 'dictionary-top300-list__list mntl-text-link'},  href = True):\n",
    "           \n",
    "            list_alpha.append(link.get('href'))"
   ]
  },
  {
   "cell_type": "code",
   "execution_count": 8,
   "metadata": {},
   "outputs": [],
   "source": [
    "with open('FULL_URL_INDEX.txt', 'w') as f:\n",
    "    for item in list_alpha:\n",
    "        f.write(\"%s\\n\" % item)"
   ]
  },
  {
   "cell_type": "code",
   "execution_count": 9,
   "metadata": {},
   "outputs": [],
   "source": [
    "logf = open(\"error.log\", \"w\")"
   ]
  },
  {
   "cell_type": "code",
   "execution_count": 10,
   "metadata": {},
   "outputs": [
    {
     "name": "stderr",
     "output_type": "stream",
     "text": [
      "100%|███████████████████████████████████████████████████████████████████████████████████████████| 6321/6321 [2:09:10<00:00,  1.49s/it]\n"
     ]
    }
   ],
   "source": [
    "# for article in tqdm(random.sample(list_alpha, 10)):\n",
    "for article in tqdm(list_alpha):\n",
    "    \n",
    "    try:\n",
    "        \n",
    "        page = urllib.request.urlopen(article, timeout = 3).read().decode('utf8','ignore')\n",
    "        soup = BeautifulSoup(page,\"lxml\")\n",
    "    \n",
    "        myTags = soup.find_all('p', {'class': 'comp mntl-sc-block finance-sc-block-html mntl-sc-block-html'})\n",
    "    \n",
    "        title = soup.find('title').get_text(strip=True).replace(\" \", \"_\") + '.txt'\n",
    "    \n",
    "        post = ''\n",
    "    \n",
    "        for tag in myTags:\n",
    "            post += str(tag.get_text(strip=True).encode('ascii', errors='replace')).lower() + '\\n' \n",
    "\n",
    "        f = 'data/' + title\n",
    "    \n",
    "        w = open(f, 'w')\n",
    "        w.write(post)\n",
    "        w.close()\n",
    "        \n",
    "    except:\n",
    "        \n",
    "        logf.write(\"Failed to extract: {0}\\n\".format(str(article)))\n",
    "        logging.error(\"Exception occurred\", exc_info=True)\n",
    "        \n",
    "    finally:\n",
    "        \n",
    "        pass"
   ]
  }
 ],
 "metadata": {
  "kernelspec": {
   "display_name": "Python 3",
   "language": "python",
   "name": "python3"
  },
  "language_info": {
   "codemirror_mode": {
    "name": "ipython",
    "version": 3
   },
   "file_extension": ".py",
   "mimetype": "text/x-python",
   "name": "python",
   "nbconvert_exporter": "python",
   "pygments_lexer": "ipython3",
   "version": "3.7.3"
  }
 },
 "nbformat": 4,
 "nbformat_minor": 2
}
